{
  "nbformat": 4,
  "nbformat_minor": 0,
  "metadata": {
    "colab": {
      "provenance": []
    },
    "kernelspec": {
      "name": "python3",
      "display_name": "Python 3"
    },
    "language_info": {
      "name": "python"
    }
  },
  "cells": [
    {
      "cell_type": "code",
      "execution_count": null,
      "metadata": {
        "id": "YeLnLgLj3zai"
      },
      "outputs": [],
      "source": [
        "!pip install yfinance\n",
        "import yfinance as yf\n",
        "import pandas as pd\n",
        "import numpy as np\n",
        "import matplotlib.pyplot as plt"
      ]
    },
    {
      "cell_type": "markdown",
      "source": [
        "Get all nasdaq listings"
      ],
      "metadata": {
        "id": "1cKuCJvRfIxu"
      }
    },
    {
      "cell_type": "code",
      "source": [
        "listings = pd.read_csv(\"nasdaq_listings.csv\", index_col = \"symbol\")\n",
        "print(listings, listings.info())\n",
        "\n",
        "listings.Sector.value_counts()\n",
        "listings[listings.Sector == \"Technology\"].Industry.value_counts()"
      ],
      "metadata": {
        "id": "8yd47ymQfMGm"
      },
      "execution_count": null,
      "outputs": []
    },
    {
      "cell_type": "markdown",
      "source": [
        "Filter Listings"
      ],
      "metadata": {
        "id": "vtquBND3f5Mp"
      }
    },
    {
      "cell_type": "code",
      "source": [
        "mask1 = listings.Sector == \"Technology\"\n",
        "print(mask1)\n",
        "\n",
        "mask2 = (listings.Country == \"United States\")\n",
        "print(mask2)\n",
        "\n",
        "tech = listings.loc[mask1 & mask2]\n",
        "print(tech, tech.info())\n",
        "\n",
        "symbols = list(tech.index)\n",
        "print(symbols)"
      ],
      "metadata": {
        "id": "NllkvXfjfMvs"
      },
      "execution_count": null,
      "outputs": []
    },
    {
      "cell_type": "markdown",
      "source": [
        "Loading Prices and Dividends"
      ],
      "metadata": {
        "id": "GpXlkyCSgdgs"
      }
    },
    {
      "cell_type": "code",
      "source": [
        "start = \"2019-12-01\"\n",
        "end = \"2022-11-30\"\n",
        "\n",
        "data = yf.download(symbols, start, end, actions = True)\n",
        "print(data, data.info())"
      ],
      "metadata": {
        "id": "j0LfXMvFfMtK"
      },
      "execution_count": null,
      "outputs": []
    },
    {
      "cell_type": "markdown",
      "source": [
        "Dividend paying Stocks"
      ],
      "metadata": {
        "id": "J-3ArK5dhEGv"
      }
    },
    {
      "cell_type": "code",
      "source": [
        "dividends = data.Dividends.loc[\"2021-12-01\":].sum()\n",
        "print(dividends)\n",
        "dividends[dividends > 0]\n",
        "\n",
        "symbols = dividends[dividends > 0].index\n",
        "print(symbols)\n",
        "\n",
        "close = data.Close[symbols].copy()\n",
        "print(close)"
      ],
      "metadata": {
        "id": "Nk7yhxN7ggnO"
      },
      "execution_count": null,
      "outputs": []
    },
    {
      "cell_type": "markdown",
      "source": [
        "Creating a price-weighted Total Return Index"
      ],
      "metadata": {
        "id": "kFoA25N2h51T"
      }
    },
    {
      "cell_type": "code",
      "source": [
        "weights_PWI = close.div(close.sum(axis = 1), axis = \"rows\")\n",
        "print(weights_PWI)\n",
        "\n",
        "weights.PWI.sum(axis = 1)\n",
        "\n",
        "total_returns = data[\"Adj Close\"][symbols].pct_change()\n",
        "print(total_returns)\n",
        "\n",
        "returns_index = total_returns.mul(weights_PWI.shift()).sum(axis = \"columns\")\n",
        "print(returns_index)\n",
        "\n",
        "index = returns_index.add(1).cumprod().mul(100)\n",
        "print(index)\n",
        "\n",
        "index.name = \"Index\"\n",
        "index.plot()\n",
        "plt.show()"
      ],
      "metadata": {
        "id": "qkAYeOJqh-SO"
      },
      "execution_count": null,
      "outputs": []
    },
    {
      "cell_type": "markdown",
      "source": [
        "Index Tracking "
      ],
      "metadata": {
        "id": "8G_fGzOPj0En"
      }
    },
    {
      "cell_type": "code",
      "source": [
        "const = symbols.to_list()\n",
        "print(const)\n",
        "\n",
        "sims = 10000\n",
        "i = 40\n",
        "n = let(const)\n",
        "print(n, i)\n",
        "\n",
        "np.random.seed(125)\n",
        "min_te = 1\n",
        "\n",
        "tstocks = None\n",
        "tporfolio = None\n",
        "\n",
        "for sim in range(sims):\n",
        "  tracking_stocks = np.random.choice(a = const, size = 1, replace = False)\n",
        "  weights_pwi = close[tracking_stocks].div(close[tracking_stocks].sum(axis = 1), axis = \"rows\")\n",
        "  tracking_returns = total_returns[tracking_stocks].mul(weights_pwi.shift()).sum(axis = \"columns\")\n",
        "  tracking_error = active_returns.std() * np.sqrt(252)\n",
        "  tracking_portfolio = tracking_return.add(1).cumprod()\n",
        "  if tracking_error < min_te:\n",
        "    min_te = tracking_error\n",
        "    tstocks = tracking_stocks\n",
        "    tportfolio = tracking_portfolio\n",
        "\n",
        "print(min_te)\n",
        "print(tstocks)\n",
        "print(tportfolio)\n",
        "\n",
        "tportfolio.name = \"Tracking_Portfolio\"\n",
        "print(index / index.iloc[0])\n",
        "\n",
        "tportfolio.plot(figsize = (12,8))\n",
        "(index/index.iloc[0]).plot()\n",
        "plt.legend()\n",
        "plt.show()"
      ],
      "metadata": {
        "id": "tuTuvUzcfMqY"
      },
      "execution_count": null,
      "outputs": []
    },
    {
      "cell_type": "markdown",
      "source": [
        "Trading with Interactive Brokers"
      ],
      "metadata": {
        "id": "p1xiAO7VmAly"
      }
    },
    {
      "cell_type": "code",
      "source": [
        "shares = 1\n",
        "close[tstocks].iloc[-1].sum() * shares\n",
        "\n",
        "target = pd.DataFrame(data = {\"symbol\": tstocks})\n",
        "print(target)\n",
        "\n",
        "target[\"position\"] = shares\n",
        "print(target)\n",
        "\n",
        "from ib_insync import *\n",
        "util.startLoop()\n",
        "\n",
        "ib = IB()\n",
        "ib.connect()\n",
        "\n",
        "pos = ib.positons()\n",
        "print(pos)\n",
        "\n",
        "df = util.df(pos)\n",
        "print(df)\n",
        "\n",
        "if df is not None:\n",
        "  df[\"symbol\"] = df.contract.apply(lambda x: x.symbol)\n",
        "  df[\"conID\"] = df.contract.apply(lambda x: x.conId)\n",
        "else:\n",
        "  df = pd.DataFrame(columns = [\"symbol\", \"position\"])\n",
        "print(df)\n",
        "\n",
        "trades = pd.merge(target, df[[\"symbol\", \"position\"]], \"outer\", on = \"symbol\", suffixes = [\"_t\", \"_a\"])\n",
        "print(trades)\n",
        "\n",
        "trades.fillna(0, inplace = True)\n",
        "print(trades)\n",
        "\n",
        "trades[\"trades\"] = trades.position_t - trades.position_a\n",
        "print(trades)\n",
        "\n",
        "trades = trades[trades.trades != 0].set_index(\"symbol\").copy()\n",
        "print(trades)\n",
        "\n",
        "for symbol in trades.index:\n",
        "  to_trade = trades.loc[symbol, \"trades\"]\n",
        "  if to_trade > 0:\n",
        "  side = \"BUY\"\n",
        "  elif = to_trade < 0:\n",
        "    side = \"SELL\"\n",
        "  contract = Stock(symbol, \"SMART\", \"USD\")\n",
        "  cds = ib.reqContractDetails(contract)\n",
        "  if len(cds) == 0:\n",
        "    print(\"No Contract for {} found\".format(symbol))\n",
        "  elif len(cds) == 1:\n",
        "    contract = cds[0].contract\n",
        "    order = MarketOrder(side, abs(to_trade))\n",
        "    trade = ib.placeOrder(contract, order)\n",
        "    ib.sleep(2)\n",
        "    if trade.orderStatus.status = \"Filled\":\n",
        "      print(\"{} {} @ {}\". format(side, symbol, trade.orderStatus.avgFillPrice))\n",
        "    else:\n",
        "      print(\"{} {} @ {}\".format(side, symbol, trade.orderStatus.status))\n",
        "  else:\n",
        "    contract = cds[0].contract\n",
        "    print(\"Multiple Contracts for {} found.\".format(symbol))\n",
        "    order = MarketOrder(side, abs(to_trade))\n",
        "    trade = ib.placeOrder(contract, order)\n",
        "    ib.sleep(2)\n",
        "    if trade.ordrStatus.status == \"Filled\":\n",
        "      print(\"{} {} @ {}\".format(side, symbol, trade.orderStatus.avgFillPrice))\n",
        "    else: \n",
        "      print(\"{} {} @ {}\".format(side, symbol, trade.orderStatus.status))\n",
        "ib.sleep(30)\n",
        "pos = ib.positions()\n",
        "df = util.df(pos)\n",
        "if df is not None:\n",
        "  df[\"symbol\"] = df.contract.apply(lambda x: x.symbol)\n",
        "  df[\"conID\"] = df.contract.apply(lambda x: x.conId)\n",
        "else:\n",
        "  df = pd.DataFrame(columns = [\"symbol\", \"position\"])\n",
        "print(df)\n",
        "\n",
        "ib.openOrders()\n",
        "ib.disconnect()"
      ],
      "metadata": {
        "id": "MjX8PXqbj1Zp"
      },
      "execution_count": null,
      "outputs": []
    },
    {
      "cell_type": "markdown",
      "source": [
        "Benchmarking and the Information Ratio"
      ],
      "metadata": {
        "id": "kjPbsPLTyCNC"
      }
    },
    {
      "cell_type": "code",
      "source": [
        "bench = index.to_frame()\n",
        "print(bench)\n",
        "\n",
        "bench.columns = [\"strategy\"]\n",
        "print(bench)\n",
        "\n",
        "SP500 = yf.download(\"^SP500TR\", \"2021-12-01\", \"2022-11-30\")\n",
        "print(SP500)\n",
        "\n",
        "bench[\"benchmark\"] = SP500[\"Adj Close\"].div(SP500[\"Adj Close\"][0]).mul(100)\n",
        "print(bench)\n",
        "\n",
        "bench.plot(figsize = (12,8))\n",
        "plt.show()\n",
        "\n",
        "returns = bench.pct_change()\n",
        "print(returns)\n",
        "\n",
        "def ann-risk_return(returns_df):\n",
        "  summary = pd.DataFrame(index = returns_df.columns)\n",
        "  summary[\"ann. Risk\"] = returns_df.std() * np.sqrt(252)\n",
        "  log_returns = np.log(returns_df + 1)\n",
        "  summary[\"CAGR\"] = np.exp(log_returns.mean() * 252) - 1\n",
        "  return summary\n",
        "print(ann_risk_return(returns))\n",
        "\n",
        "def tracking(returns_df, index):\n",
        "  active_returns = returns_df.sub(returns_df[index], axis = \"rows\")\n",
        "  summary = pd.DataFrame(index = returns_df.columns)\n",
        "  log_returns = np.log(active_returns + 1)\n",
        "  sumamary[\"ActiveReturn\"] = np.exp(log_returns.mean() * 252) -1\n",
        "  return summary\n",
        "\n",
        "summary = tracking(returns, \"benchmark\")\n",
        "print(summary)\n",
        "\n",
        "summary[\"InfoationRatio\"] = summary.ActiveReturn / summary.TrackingError\n",
        "print(summary)"
      ],
      "metadata": {
        "id": "7UWM0pG1qbqy"
      },
      "execution_count": null,
      "outputs": []
    }
  ]
}